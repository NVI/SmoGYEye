{
 "cells": [
  {
   "cell_type": "code",
   "execution_count": 107,
   "metadata": {},
   "outputs": [],
   "source": [
    "# For now, clear outputs (Cell > All Output > Clear) before committing to Git\n",
    "# There might be a better way\n",
    "\n",
    "import sqlite3\n",
    "import pandas as pd\n",
    "cnx = sqlite3.connect('FPA_FOD_20170508.sqlite')\n",
    "\n",
    "import matplotlib.pyplot as plt\n",
    "import numpy as np\n",
    "from sklearn import tree, preprocessing\n",
    "import sklearn.ensemble as ske\n",
    "from sklearn.model_selection import train_test_split\n",
    "from sklearn.linear_model import LinearRegression"
   ]
  },
  {
   "cell_type": "code",
   "execution_count": 127,
   "metadata": {},
   "outputs": [
    {
     "name": "stdout",
     "output_type": "stream",
     "text": [
      "   FIRE_YEAR DISCOVERY_TIME STAT_CAUSE_DESCR  CONT_DATE CONT_TIME   LATITUDE  \\\n",
      "0       2005           1300    Miscellaneous  2453403.5      1730  40.036944   \n",
      "1       2004           0845        Lightning  2453137.5      1530  38.933056   \n",
      "2       2004           1921   Debris Burning  2453156.5      2024  38.984167   \n",
      "3       2004           1600        Lightning  2453189.5      1400  38.559167   \n",
      "4       2004           1600        Lightning  2453189.5      1200  38.559167   \n",
      "\n",
      "    LONGITUDE STATE  DISCOVERY_DATE  FIRE_SIZE FIRE_SIZE_CLASS  \n",
      "0 -121.005833    CA       2453403.5       0.10               A  \n",
      "1 -120.404444    CA       2453137.5       0.25               A  \n",
      "2 -120.735556    CA       2453156.5       0.10               A  \n",
      "3 -119.913333    CA       2453184.5       0.10               A  \n",
      "4 -119.933056    CA       2453184.5       0.10               A  \n"
     ]
    }
   ],
   "source": [
    "df = pd.read_sql_query(\"SELECT FIRE_YEAR,DISCOVERY_TIME,STAT_CAUSE_DESCR,CONT_DATE,CONT_TIME,LATITUDE,LONGITUDE,STATE,DISCOVERY_DATE,FIRE_SIZE,FIRE_SIZE_CLASS FROM 'Fires'\", cnx)\n",
    "print(df.head())"
   ]
  },
  {
   "cell_type": "code",
   "execution_count": 128,
   "metadata": {},
   "outputs": [
    {
     "name": "stdout",
     "output_type": "stream",
     "text": [
      "   FIRE_YEAR DISCOVERY_TIME STAT_CAUSE_DESCR  CONT_DATE CONT_TIME   LATITUDE  \\\n",
      "0       2005           1300    Miscellaneous 2005-02-02      1730  40.036944   \n",
      "1       2004           0845        Lightning 2004-05-12      1530  38.933056   \n",
      "2       2004           1921   Debris Burning 2004-05-31      2024  38.984167   \n",
      "3       2004           1600        Lightning 2004-07-03      1400  38.559167   \n",
      "4       2004           1600        Lightning 2004-07-03      1200  38.559167   \n",
      "\n",
      "    LONGITUDE STATE DISCOVERY_DATE  FIRE_SIZE FIRE_SIZE_CLASS  \n",
      "0 -121.005833    CA     2005-02-02       0.10               A  \n",
      "1 -120.404444    CA     2004-05-12       0.25               A  \n",
      "2 -120.735556    CA     2004-05-31       0.10               A  \n",
      "3 -119.913333    CA     2004-06-28       0.10               A  \n",
      "4 -119.933056    CA     2004-06-28       0.10               A  \n"
     ]
    }
   ],
   "source": [
    "df['DISCOVERY_DATE'] = pd.to_datetime(df['DISCOVERY_DATE'] - pd.Timestamp(0).to_julian_date(), unit='D')\n",
    "df['CONT_DATE'] = pd.to_datetime(df['CONT_DATE'] - pd.Timestamp(0).to_julian_date(), unit='D')\n",
    "print(df.head())"
   ]
  },
  {
   "cell_type": "code",
   "execution_count": 134,
   "metadata": {},
   "outputs": [
    {
     "data": {
      "text/plain": [
       "0         2005-02-02\n",
       "1         2004-05-12\n",
       "2         2004-05-31\n",
       "3         2004-06-28\n",
       "4         2004-06-28\n",
       "5         2004-06-30\n",
       "6         2004-07-01\n",
       "7         2005-03-08\n",
       "8         2005-03-15\n",
       "9         2004-07-01\n",
       "10        2004-07-02\n",
       "11        2004-07-02\n",
       "12        2004-09-03\n",
       "13        2004-09-28\n",
       "14        2004-10-03\n",
       "15        2004-10-03\n",
       "16        2004-10-06\n",
       "17        2004-10-13\n",
       "18        2004-11-20\n",
       "19        2004-06-04\n",
       "20        2004-06-19\n",
       "21        2004-06-21\n",
       "22        2004-06-25\n",
       "23        2004-07-01\n",
       "24        2004-07-01\n",
       "25        2004-07-20\n",
       "26        2004-03-18\n",
       "27        2004-08-05\n",
       "28        2004-03-18\n",
       "29        2004-05-11\n",
       "             ...    \n",
       "1880435   2015-06-28\n",
       "1880436   2015-03-21\n",
       "1880437   2015-05-11\n",
       "1880438   2015-09-26\n",
       "1880439   2015-01-27\n",
       "1880440   2015-07-04\n",
       "1880441   2015-12-07\n",
       "1880442   2015-03-28\n",
       "1880443   2015-09-27\n",
       "1880444   2015-10-30\n",
       "1880445   2015-02-22\n",
       "1880446   2015-07-25\n",
       "1880447   2015-01-28\n",
       "1880448   2015-06-26\n",
       "1880449   2015-08-27\n",
       "1880450   2015-06-27\n",
       "1880451   2015-06-06\n",
       "1880452   2015-04-14\n",
       "1880453   2015-07-07\n",
       "1880454   2015-09-12\n",
       "1880455   2015-06-28\n",
       "1880456   2015-06-14\n",
       "1880457   2015-09-30\n",
       "1880458   2015-08-01\n",
       "1880459   2015-05-28\n",
       "1880460   2015-09-26\n",
       "1880461   2015-10-05\n",
       "1880462   2015-05-02\n",
       "1880463   2015-10-14\n",
       "1880464   2015-03-14\n",
       "Name: DISCOVERY_DATE, Length: 1880465, dtype: datetime64[ns]"
      ]
     },
     "execution_count": 134,
     "metadata": {},
     "output_type": "execute_result"
    }
   ],
   "source": [
    "df['DISCOVERY_DATE']"
   ]
  },
  {
   "cell_type": "code",
   "execution_count": 135,
   "metadata": {},
   "outputs": [
    {
     "data": {
      "text/plain": [
       "0          1730\n",
       "1          1530\n",
       "2          2024\n",
       "3          1400\n",
       "4          1200\n",
       "5          1600\n",
       "6          1400\n",
       "7          1600\n",
       "8          1700\n",
       "9          1800\n",
       "10         1900\n",
       "11         2000\n",
       "12         1630\n",
       "13         1800\n",
       "14         1500\n",
       "15         1400\n",
       "16         1000\n",
       "17         1800\n",
       "18         1630\n",
       "19         1400\n",
       "20         1940\n",
       "21         1100\n",
       "22         1300\n",
       "23         1110\n",
       "24         1450\n",
       "25         1600\n",
       "26         2030\n",
       "27         1815\n",
       "28         2130\n",
       "29         1552\n",
       "           ... \n",
       "1880435    None\n",
       "1880436    1152\n",
       "1880437    2000\n",
       "1880438    1650\n",
       "1880439    None\n",
       "1880440    None\n",
       "1880441    None\n",
       "1880442    1750\n",
       "1880443    0855\n",
       "1880444    None\n",
       "1880445    None\n",
       "1880446    None\n",
       "1880447    None\n",
       "1880448    2014\n",
       "1880449    None\n",
       "1880450    None\n",
       "1880451    1228\n",
       "1880452    None\n",
       "1880453    None\n",
       "1880454    None\n",
       "1880455    0000\n",
       "1880456    1913\n",
       "1880457    0056\n",
       "1880458    1000\n",
       "1880459    1436\n",
       "1880460    1843\n",
       "1880461    None\n",
       "1880462    None\n",
       "1880463    None\n",
       "1880464    None\n",
       "Name: CONT_TIME, Length: 1880465, dtype: object"
      ]
     },
     "execution_count": 135,
     "metadata": {},
     "output_type": "execute_result"
    }
   ],
   "source": [
    "df['CONT_TIME']"
   ]
  },
  {
   "cell_type": "code",
   "execution_count": 133,
   "metadata": {},
   "outputs": [
    {
     "data": {
      "text/plain": [
       "0         2005-02-02\n",
       "1         2004-05-12\n",
       "2         2004-05-31\n",
       "3         2004-07-03\n",
       "4         2004-07-03\n",
       "5         2004-07-01\n",
       "6         2004-07-02\n",
       "7         2005-03-08\n",
       "8         2005-03-15\n",
       "9         2004-07-02\n",
       "10        2004-07-03\n",
       "11        2004-07-03\n",
       "12        2004-09-03\n",
       "13        2004-09-28\n",
       "14        2004-10-03\n",
       "15        2004-10-03\n",
       "16        2004-10-21\n",
       "17        2004-10-17\n",
       "18        2004-11-21\n",
       "19        2004-06-04\n",
       "20        2004-06-19\n",
       "21        2004-06-22\n",
       "22        2004-06-26\n",
       "23        2004-07-02\n",
       "24        2004-07-06\n",
       "25        2004-07-20\n",
       "26        2004-03-18\n",
       "27        2004-08-05\n",
       "28        2004-03-18\n",
       "29        2004-05-11\n",
       "             ...    \n",
       "1880435          NaT\n",
       "1880436   2015-03-21\n",
       "1880437   2015-05-11\n",
       "1880438   2015-09-26\n",
       "1880439          NaT\n",
       "1880440          NaT\n",
       "1880441          NaT\n",
       "1880442   2015-03-28\n",
       "1880443   2015-09-27\n",
       "1880444          NaT\n",
       "1880445          NaT\n",
       "1880446          NaT\n",
       "1880447          NaT\n",
       "1880448   2015-06-26\n",
       "1880449          NaT\n",
       "1880450          NaT\n",
       "1880451   2015-06-06\n",
       "1880452          NaT\n",
       "1880453          NaT\n",
       "1880454          NaT\n",
       "1880455   2015-06-29\n",
       "1880456   2015-06-14\n",
       "1880457   2015-10-01\n",
       "1880458   2015-08-06\n",
       "1880459   2015-05-28\n",
       "1880460   2015-09-26\n",
       "1880461          NaT\n",
       "1880462          NaT\n",
       "1880463          NaT\n",
       "1880464          NaT\n",
       "Name: CONT_DATE, Length: 1880465, dtype: datetime64[ns]"
      ]
     },
     "execution_count": 133,
     "metadata": {},
     "output_type": "execute_result"
    }
   ],
   "source": [
    "df['CONT_DATE']"
   ]
  },
  {
   "cell_type": "code",
   "execution_count": null,
   "metadata": {},
   "outputs": [],
   "source": []
  },
  {
   "cell_type": "code",
   "execution_count": 120,
   "metadata": {},
   "outputs": [
    {
     "name": "stdout",
     "output_type": "stream",
     "text": [
      "   FIRE_YEAR DISCOVERY_TIME STAT_CAUSE_DESCR  CONT_DATE CONT_TIME   LATITUDE  \\\n",
      "0       2005           1300    Miscellaneous 2005-02-02      1730  40.036944   \n",
      "1       2004           0845        Lightning 2004-05-12      1530  38.933056   \n",
      "2       2004           1921   Debris Burning 2004-05-31      2024  38.984167   \n",
      "3       2004           1600        Lightning 2004-07-03      1400  38.559167   \n",
      "4       2004           1600        Lightning 2004-07-03      1200  38.559167   \n",
      "\n",
      "    LONGITUDE STATE DISCOVERY_DATE  FIRE_SIZE FIRE_SIZE_CLASS  \\\n",
      "0 -121.005833    CA     2005-02-02       0.10               A   \n",
      "1 -120.404444    CA     2004-05-12       0.25               A   \n",
      "2 -120.735556    CA     2004-05-31       0.10               A   \n",
      "3 -119.913333    CA     2004-06-28       0.10               A   \n",
      "4 -119.933056    CA     2004-06-28       0.10               A   \n",
      "\n",
      "   DISCOVERY_MONTH  DISCOVERY_DAY DISCOVERY_DAY_OF_WEEK  CONT_MONTH  CONT_DAY  \\\n",
      "0                2              2             Wednesday         2.0       2.0   \n",
      "1                5             12             Wednesday         5.0      12.0   \n",
      "2                5             31                Monday         5.0      31.0   \n",
      "3                6             28                Monday         7.0       3.0   \n",
      "4                6             28                Monday         7.0       3.0   \n",
      "\n",
      "  CONT_DAY_OF_WEEK  \n",
      "0        Wednesday  \n",
      "1        Wednesday  \n",
      "2           Monday  \n",
      "3         Saturday  \n",
      "4         Saturday  \n"
     ]
    }
   ],
   "source": [
    "df['DISCOVERY_MONTH'] = pd.DatetimeIndex(df['DISCOVERY_DATE']).month\n",
    "df['DISCOVERY_DAY'] = pd.DatetimeIndex(df['DISCOVERY_DATE']).day\n",
    "df['DISCOVERY_DAY_OF_WEEK'] = df['DISCOVERY_DATE'].dt.weekday_name\n",
    "\n",
    "df['CONT_MONTH'] = pd.DatetimeIndex(df['CONT_DATE']).month\n",
    "df['CONT_DAY'] = pd.DatetimeIndex(df['CONT_DATE']).day\n",
    "df['CONT_DAY_OF_WEEK'] = df['CONT_DATE'].dt.weekday_name\n",
    "print(df.head())"
   ]
  },
  {
   "cell_type": "code",
   "execution_count": 122,
   "metadata": {},
   "outputs": [
    {
     "name": "stdout",
     "output_type": "stream",
     "text": [
      "   FIRE_YEAR DISCOVERY_TIME  STAT_CAUSE_DESCR  CONT_DATE CONT_TIME   LATITUDE  \\\n",
      "0       2005           1300                 7 2005-02-02      1730  40.036944   \n",
      "1       2004           0845                 6 2004-05-12      1530  38.933056   \n",
      "2       2004           1921                 3 2004-05-31      2024  38.984167   \n",
      "3       2004           1600                 6 2004-07-03      1400  38.559167   \n",
      "4       2004           1600                 6 2004-07-03      1200  38.559167   \n",
      "\n",
      "    LONGITUDE  STATE DISCOVERY_DATE  FIRE_SIZE FIRE_SIZE_CLASS  \\\n",
      "0 -121.005833      4     2005-02-02       0.10               A   \n",
      "1 -120.404444      4     2004-05-12       0.25               A   \n",
      "2 -120.735556      4     2004-05-31       0.10               A   \n",
      "3 -119.913333      4     2004-06-28       0.10               A   \n",
      "4 -119.933056      4     2004-06-28       0.10               A   \n",
      "\n",
      "   DISCOVERY_MONTH  DISCOVERY_DAY  DISCOVERY_DAY_OF_WEEK  CONT_MONTH  \\\n",
      "0                2              2                      6         2.0   \n",
      "1                5             12                      6         5.0   \n",
      "2                5             31                      1         5.0   \n",
      "3                6             28                      1         7.0   \n",
      "4                6             28                      1         7.0   \n",
      "\n",
      "   CONT_DAY CONT_DAY_OF_WEEK  \n",
      "0       2.0        Wednesday  \n",
      "1      12.0        Wednesday  \n",
      "2      31.0           Monday  \n",
      "3       3.0         Saturday  \n",
      "4       3.0         Saturday  \n"
     ]
    }
   ],
   "source": [
    "le = preprocessing.LabelEncoder()\n",
    "df['STAT_CAUSE_DESCR'] = le.fit_transform(df['STAT_CAUSE_DESCR'])\n",
    "df['STATE'] = le.fit_transform(df['STATE'])\n",
    "df['DISCOVERY_DAY_OF_WEEK'] = le.fit_transform(df['DISCOVERY_DAY_OF_WEEK'])\n",
    "#df['CONT_DAY_OF_WEEK'] = le.fit_transform(df['CONT_DAY_OF_WEEK'])\n",
    "print(df.head())"
   ]
  },
  {
   "cell_type": "code",
   "execution_count": 124,
   "metadata": {},
   "outputs": [
    {
     "data": {
      "text/plain": [
       "0          Wednesday\n",
       "1          Wednesday\n",
       "2             Monday\n",
       "3           Saturday\n",
       "4           Saturday\n",
       "5           Thursday\n",
       "6             Friday\n",
       "7            Tuesday\n",
       "8            Tuesday\n",
       "9             Friday\n",
       "10          Saturday\n",
       "11          Saturday\n",
       "12            Friday\n",
       "13           Tuesday\n",
       "14            Sunday\n",
       "15            Sunday\n",
       "16          Thursday\n",
       "17            Sunday\n",
       "18            Sunday\n",
       "19            Friday\n",
       "20          Saturday\n",
       "21           Tuesday\n",
       "22          Saturday\n",
       "23            Friday\n",
       "24           Tuesday\n",
       "25           Tuesday\n",
       "26          Thursday\n",
       "27          Thursday\n",
       "28          Thursday\n",
       "29           Tuesday\n",
       "             ...    \n",
       "1880435          NaN\n",
       "1880436     Saturday\n",
       "1880437       Monday\n",
       "1880438     Saturday\n",
       "1880439          NaN\n",
       "1880440          NaN\n",
       "1880441          NaN\n",
       "1880442     Saturday\n",
       "1880443       Sunday\n",
       "1880444          NaN\n",
       "1880445          NaN\n",
       "1880446          NaN\n",
       "1880447          NaN\n",
       "1880448       Friday\n",
       "1880449          NaN\n",
       "1880450          NaN\n",
       "1880451     Saturday\n",
       "1880452          NaN\n",
       "1880453          NaN\n",
       "1880454          NaN\n",
       "1880455       Monday\n",
       "1880456       Sunday\n",
       "1880457     Thursday\n",
       "1880458     Thursday\n",
       "1880459     Thursday\n",
       "1880460     Saturday\n",
       "1880461          NaN\n",
       "1880462          NaN\n",
       "1880463          NaN\n",
       "1880464          NaN\n",
       "Name: CONT_DAY_OF_WEEK, Length: 1880465, dtype: object"
      ]
     },
     "execution_count": 124,
     "metadata": {},
     "output_type": "execute_result"
    }
   ],
   "source": [
    "df['CONT_DAY_OF_WEEK']"
   ]
  },
  {
   "cell_type": "code",
   "execution_count": null,
   "metadata": {},
   "outputs": [],
   "source": [
    "logits=df.drop(['FIRE_SIZE','DATE','DISCOVERY_DATE'],axis=1)"
   ]
  },
  {
   "cell_type": "code",
   "execution_count": null,
   "metadata": {},
   "outputs": [],
   "source": [
    "labels=df['FIRE_SIZE']\n",
    "labels.head()"
   ]
  },
  {
   "cell_type": "code",
   "execution_count": null,
   "metadata": {},
   "outputs": [],
   "source": [
    "logits=df.drop(['FIRE_SIZE','DATE','DISCOVERY_DATE'],axis=1)\n",
    "logits.head()"
   ]
  },
  {
   "cell_type": "code",
   "execution_count": null,
   "metadata": {},
   "outputs": [],
   "source": [
    "x_train, x_test, y_train, y_test = train_test_split(logits,labels,test_size=0.2)"
   ]
  },
  {
   "cell_type": "code",
   "execution_count": null,
   "metadata": {},
   "outputs": [],
   "source": [
    "reg = LinearRegression().fit(x_train, y_train)"
   ]
  },
  {
   "cell_type": "code",
   "execution_count": null,
   "metadata": {},
   "outputs": [],
   "source": [
    "reg.score(x_test,y_test)"
   ]
  },
  {
   "cell_type": "code",
   "execution_count": null,
   "metadata": {},
   "outputs": [],
   "source": [
    "import tensorflow\n",
    "import keras\n",
    "from keras.models import Sequential\n",
    "from keras.layers import Dense, Activation"
   ]
  },
  {
   "cell_type": "code",
   "execution_count": null,
   "metadata": {},
   "outputs": [],
   "source": [
    "from keras.activations import relu"
   ]
  },
  {
   "cell_type": "code",
   "execution_count": null,
   "metadata": {},
   "outputs": [],
   "source": [
    "model=Sequential()\n",
    "model.add(Dense(50,input_shape=[8]))\n",
    "model.add(Activation('relu'))\n",
    "model.add(Dense(1))"
   ]
  },
  {
   "cell_type": "code",
   "execution_count": null,
   "metadata": {},
   "outputs": [],
   "source": [
    "model.summary()"
   ]
  },
  {
   "cell_type": "code",
   "execution_count": null,
   "metadata": {},
   "outputs": [],
   "source": [
    "model.compile(optimizer='sgd',\n",
    "              loss='mean_squared_error',\n",
    "              metrics=['accuracy'])"
   ]
  },
  {
   "cell_type": "code",
   "execution_count": null,
   "metadata": {},
   "outputs": [],
   "source": [
    "model.fit(x_train,y_train,epochs=10)"
   ]
  },
  {
   "cell_type": "code",
   "execution_count": null,
   "metadata": {},
   "outputs": [],
   "source": [
    "model.evaluate(x_test,y_test)"
   ]
  },
  {
   "cell_type": "code",
   "execution_count": null,
   "metadata": {},
   "outputs": [],
   "source": [
    "a=model.predict(x_test)"
   ]
  },
  {
   "cell_type": "code",
   "execution_count": null,
   "metadata": {},
   "outputs": [],
   "source": [
    "a[100]"
   ]
  },
  {
   "cell_type": "code",
   "execution_count": null,
   "metadata": {},
   "outputs": [],
   "source": [
    "df['STAT_CAUSE_DESCR'].value_counts().plot(kind='barh',color='coral')\n",
    "plt.show()"
   ]
  },
  {
   "cell_type": "code",
   "execution_count": null,
   "metadata": {},
   "outputs": [],
   "source": [
    "df_arson = df[df['STAT_CAUSE_DESCR']=='Arson']\n",
    "df_arson['DAY_OF_WEEK'].value_counts().plot(kind='barh',color='coral')\n",
    "plt.show()"
   ]
  },
  {
   "cell_type": "code",
   "execution_count": null,
   "metadata": {},
   "outputs": [],
   "source": [
    "def plot_corr(df,size=10):\n",
    "    corr = df.corr()  #the default method is pearson\n",
    "    fig, ax = plt.subplots(figsize=(size, size))\n",
    "    ax.matshow(corr,cmap=plt.cm.Oranges)\n",
    "    plt.xticks(range(len(corr.columns)), corr.columns)\n",
    "    plt.yticks(range(len(corr.columns)), corr.columns)\n",
    "    for tick in ax.get_xticklabels():\n",
    "        tick.set_rotation(45)    \n",
    "    plt.show()\n",
    "    \n",
    "\n",
    "    \n",
    "plot_corr(df)"
   ]
  },
  {
   "cell_type": "code",
   "execution_count": null,
   "metadata": {},
   "outputs": [],
   "source": [
    "df.plot(kind='scatter',x='LONGITUDE',y='LATITUDE',color='coral',alpha=0.3)\n",
    "plt.show()"
   ]
  },
  {
   "cell_type": "code",
   "execution_count": null,
   "metadata": {},
   "outputs": [],
   "source": [
    "df_lightning = df[df['STAT_CAUSE_DESCR']=='Lightning']\n",
    "df_lightning['DAY_OF_WEEK'].value_counts().plot(kind='barh',color='coral')\n",
    "plt.show()"
   ]
  },
  {
   "cell_type": "code",
   "execution_count": null,
   "metadata": {},
   "outputs": [],
   "source": []
  },
  {
   "cell_type": "code",
   "execution_count": null,
   "metadata": {},
   "outputs": [],
   "source": [
    "df['DAY_OF_WEEK'].value_counts().plot(kind='barh',color='coral')\n",
    "plt.show()"
   ]
  },
  {
   "cell_type": "code",
   "execution_count": null,
   "metadata": {},
   "outputs": [],
   "source": [
    "df['STATE'].value_counts().head(n=10).plot(kind='barh',color='coral')\n",
    "plt.show()"
   ]
  },
  {
   "cell_type": "code",
   "execution_count": null,
   "metadata": {},
   "outputs": [],
   "source": [
    "df_CA = df[df['STATE']=='CA']\n",
    "df_CA['STAT_CAUSE_DESCR'].value_counts().plot(kind='barh',color='coral',title='causes of fires for CA')\n",
    "plt.show()"
   ]
  }
 ],
 "metadata": {
  "kernelspec": {
   "display_name": "Python 3",
   "language": "python",
   "name": "python3"
  },
  "language_info": {
   "codemirror_mode": {
    "name": "ipython",
    "version": 3
   },
   "file_extension": ".py",
   "mimetype": "text/x-python",
   "name": "python",
   "nbconvert_exporter": "python",
   "pygments_lexer": "ipython3",
   "version": "3.6.4"
  }
 },
 "nbformat": 4,
 "nbformat_minor": 2
}
